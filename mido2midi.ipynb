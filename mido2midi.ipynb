{
  "nbformat": 4,
  "nbformat_minor": 0,
  "metadata": {
    "colab": {
      "provenance": [],
      "mount_file_id": "1UYVdwqGUR0AGaDoWB6eNIJuIrrwhyV5L",
      "authorship_tag": "ABX9TyMMtI9IRW2hDFpZCE/2/J/x",
      "include_colab_link": true
    },
    "kernelspec": {
      "name": "python3",
      "display_name": "Python 3"
    },
    "language_info": {
      "name": "python"
    }
  },
  "cells": [
    {
      "cell_type": "markdown",
      "metadata": {
        "id": "view-in-github",
        "colab_type": "text"
      },
      "source": [
        "<a href=\"https://colab.research.google.com/github/olaviinha/MusicWithChatGPT/blob/main/mido2midi.ipynb\" target=\"_parent\"><img src=\"https://colab.research.google.com/assets/colab-badge.svg\" alt=\"Open In Colab\"/></a>"
      ]
    },
    {
      "cell_type": "markdown",
      "source": [
        "#<font face=\"Trebuchet MS\" size=\"6\">mido2midi<font color=\"#999\" size=\"4\">&nbsp;&nbsp;&nbsp;|&nbsp;&nbsp;&nbsp;</font><font color=\"#999\" size=\"4\">Music with ChatGPT</font><font color=\"#999\" size=\"4\">&nbsp;&nbsp;&nbsp;|&nbsp;&nbsp;&nbsp;</font><a href=\"https://github.com/olaviinha/MusicWithChatGPT\" target=\"_blank\"><font color=\"#999\" size=\"4\">Github</font></a>\n",
        "\n",
        "Utility notebook to quickly execute ChatGPT-generated mido code blocks and download the resulting MIDI file.\n",
        "\n",
        "### Usage\n",
        "- When you run the Setup cell, a box will open on the left side of the screen. Generated MIDI files will appear in this box. You can download them by right-click.\n",
        "\n",
        "- If the ChatGPT-generated code block produces errors, you may ask ChatGPT to fix it:<br> _This code produces error \\<paste last line of error here\\>. Can you fix it?_"
      ],
      "metadata": {
        "id": "GBgr33OisX3y"
      }
    },
    {
      "cell_type": "code",
      "source": [
        "#@title #Setup\n",
        "#@markdown This cell needs to be run only once. It will setup prerequisites.<br>\n",
        "\n",
        "force_setup = False\n",
        "repositories = []\n",
        "pip_packages = 'mido'\n",
        "apt_packages = ''\n",
        "mount_drive = False #@ param {type:\"boolean\"}\n",
        "skip_setup = False #@ param {type:\"boolean\"}\n",
        "\n",
        "# Download the repo from Github\n",
        "import os\n",
        "from google.colab import output, files\n",
        "import warnings\n",
        "warnings.filterwarnings('ignore')\n",
        "%cd /content/\n",
        "\n",
        "# inhagcutils\n",
        "if not os.path.isfile('/content/inhagcutils.ipynb') and force_setup == False:\n",
        "  !pip -q install import-ipynb {pip_packages}\n",
        "  if apt_packages != '':\n",
        "    !apt-get update && apt-get install {apt_packages}\n",
        "  !curl -s -O https://raw.githubusercontent.com/olaviinha/inhagcutils/master/inhagcutils.ipynb\n",
        "import import_ipynb\n",
        "from inhagcutils import *\n",
        "\n",
        "if len(repositories) > 0 and skip_setup == False:\n",
        "  for repo in repositories:\n",
        "    %cd /content/\n",
        "    install_dir = fix_path('/content/'+path_leaf(repo).replace('.git', ''))\n",
        "    repo = repo if '.git' in repo else repo+'.git'\n",
        "    !git clone {repo}\n",
        "    if os.path.isfile(install_dir+'setup.py') or os.path.isfile(install_dir+'setup.cfg'):\n",
        "      !pip install -e ./{install_dir}\n",
        "    if os.path.isfile(install_dir+'requirements.txt'):\n",
        "      !pip install -r {install_dir}/requirements.txt\n",
        "\n",
        "if len(repositories) == 1:\n",
        "  %cd {install_dir}\n",
        "\n",
        "dir_tmp = '/content/tmp/'\n",
        "create_dirs([dir_tmp])\n",
        "\n",
        "import time, sys\n",
        "from datetime import timedelta\n",
        "import math\n",
        "import shutil\n",
        "\n",
        "# DO stuff\n",
        "\n",
        "downloaded_files = []\n",
        "new_files = []\n",
        "\n",
        "%cd {dir_tmp}\n",
        "\n",
        "output.clear()\n",
        "\n",
        "files.view(dir_tmp)\n",
        "files.view(dir_tmp)\n",
        "\n",
        "# !nvidia-smi\n",
        "op(c.ok, 'Setup finished.', time=True)"
      ],
      "metadata": {
        "id": "Zl44n6FXsbnY",
        "cellView": "form",
        "outputId": "8bd9152c-507a-415a-bc5a-c0d28dce7535",
        "colab": {
          "base_uri": "https://localhost:8080/",
          "height": 34
        }
      },
      "execution_count": 2,
      "outputs": [
        {
          "output_type": "display_data",
          "data": {
            "text/plain": [
              "<IPython.core.display.Javascript object>"
            ],
            "application/javascript": [
              "\n",
              "      ((filepath) => {{\n",
              "        if (!google.colab.kernel.accessAllowed) {{\n",
              "          return;\n",
              "        }}\n",
              "        google.colab.files.view(filepath);\n",
              "      }})(\"/content/tmp\")"
            ]
          },
          "metadata": {}
        },
        {
          "output_type": "display_data",
          "data": {
            "text/plain": [
              "<IPython.core.display.Javascript object>"
            ],
            "application/javascript": [
              "\n",
              "      ((filepath) => {{\n",
              "        if (!google.colab.kernel.accessAllowed) {{\n",
              "          return;\n",
              "        }}\n",
              "        google.colab.files.view(filepath);\n",
              "      }})(\"/content/tmp\")"
            ]
          },
          "metadata": {}
        },
        {
          "output_type": "stream",
          "name": "stdout",
          "text": [
            "\u001b[90m2023-02-22 16:28:47 \u001b[92mSetup finished.\u001b[0m\n"
          ]
        }
      ]
    },
    {
      "cell_type": "code",
      "source": [
        "\n",
        "\n",
        "\n",
        "#\n",
        "# Paste ChatGPT-generated mido code block here and run this cell.\n",
        "#\n",
        "\n",
        "\n"
      ],
      "metadata": {
        "id": "dMv2C4uPY2_j"
      },
      "execution_count": null,
      "outputs": []
    },
    {
      "cell_type": "code",
      "source": [
        "#@title ## Copy all generated MIDI files to Google Drive\n",
        "\n",
        "save_to_drive_dir = \"\" #@param {type: \"string\"}\n",
        "\n",
        "# Mount Drive\n",
        "if mount_drive == True:\n",
        "  if not os.path.isdir('/content/drive'):\n",
        "    from google.colab import drive\n",
        "    drive.mount('/content/drive')\n",
        "    drive_root = '/content/drive/My Drive'\n",
        "  if not os.path.isdir('/content/mydrive'):\n",
        "    os.symlink('/content/drive/My Drive', '/content/mydrive')\n",
        "    drive_root = '/content/mydrive/'\n",
        "  drive_root_set = True\n",
        "else:\n",
        "  create_dirs(['/content/faux_drive'])\n",
        "  drive_root = '/content/faux_drive/'\n",
        "\n",
        "if save_to_drive_dir == '':\n",
        "  sys.exit('Please specify a directory in your Google Drive, e.g: midi-files')\n",
        "else:\n",
        "  if not os.path.isdir(drive_root+save_to_drive_dir):\n",
        "    os.mkdir(drive_root+save_to_drive_dir)\n",
        "  dir_out = drive_root+save_to_drive_dir\n",
        "  midi_files = glob(dir_tmp+'*.mid')\n",
        "  for midi_file in midi_files:\n",
        "    file_out = dir_out+path_leaf(midi_file)\n",
        "    if midi_file not in downloaded_files:\n",
        "      shutil.copy(midi_file, file_out)\n",
        "      downloaded_files.append(midi_file)\n",
        "      if os.path.isfile(file_out):\n",
        "        op(c.ok, 'File saved to', file_out.replace(drive_root, ''), time=True)\n",
        "      else:\n",
        "        op(c.fail, 'Error saving file', file_out.replace(drive_root, ''), time=True)\n",
        "\n",
        "print()\n",
        "op(c.ok, 'FIN.')"
      ],
      "metadata": {
        "cellView": "form",
        "id": "jc4YJ-Z5ZH5H"
      },
      "execution_count": null,
      "outputs": []
    }
  ]
}